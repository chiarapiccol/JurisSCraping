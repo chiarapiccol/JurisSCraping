{
 "cells": [
  {
   "cell_type": "markdown",
   "metadata": {},
   "source": [
    "SCRAPING - ss 21 \n",
    "--------------- \n",
    "> Chiara Piccolroaz\n",
    "\n",
    "> University of Konstanz\n",
    "\n",
    "> Department of Computer and Information Science; Department of political and administration science\n"
   ]
  },
  {
   "cell_type": "markdown",
   "metadata": {},
   "source": [
    "IMPORTING PACKAGES\n",
    "--------------------------\n",
    "\n",
    "WEbseiten for Scraping Juris : https://www.juris.de/jportal/portal/ and https://rzblx10.uni-regensburg.de/dbinfo/detail.php?bib_id=ubko&colors=&ocolors=&lett=f&tid=0&titel_id=865\n",
    "\n",
    "WebSeite for Installing Selenium: : https://www.jcchouinard.com/learn-selenium-python-seo-automation/\n",
    "\n",
    "PS: downloading the ChromeDrive is a bitch"
   ]
  },
  {
   "cell_type": "code",
   "execution_count": 15,
   "metadata": {},
   "outputs": [],
   "source": [
    "import time\n",
    "from selenium import webdriver\n",
    "from selenium.webdriver.common.keys import Keys\n",
    "import selenium.webdriver.support.ui as ui\n",
    "import requests, PyPDF2\n",
    "from io import BytesIO\n",
    "import pickle \n",
    "import sys\n",
    "from selenium.common.exceptions import NoSuchElementException\n",
    "import os.path"
   ]
  },
  {
   "cell_type": "markdown",
   "metadata": {},
   "source": [
    "BEFOR STARTING:\n",
    "\n",
    "Make sure to: (1) be locked in the Uni-WLAN or connected with the Uni-VPN. (2) the packages have been download. (3) your internet connection is really strong and stable, otherwise the programm will probably crush\n",
    "\n",
    "PROBLEME: \n",
    "\n",
    "After circa 30 Minuts you are automatically locked out. Either write a programm to automatically reload the page and keep going from the point it chrushed or do it automatically. For the time being I do it manually\n"
   ]
  },
  {
   "cell_type": "markdown",
   "metadata": {},
   "source": [
    "PART 1. Get Links\n",
    "-------------------------"
   ]
  },
  {
   "cell_type": "markdown",
   "metadata": {},
   "source": [
    "Open the Web and Select the relevant filers and buttons. Make sure to: run the sleep functions, otherwise the other functions will override. "
   ]
  },
  {
   "cell_type": "code",
   "execution_count": 16,
   "metadata": {},
   "outputs": [],
   "source": [
    "# open the web\n",
    "driverC=webdriver.Chrome(executable_path=r\"C:\\Program Files\\Google\\Chrome\\Application\\chromedriver.exe\") \n",
    "driverC.get('https://www.juris.de/jportal/?action=JLoginUser&username=HEBISUKN.autologin')\n",
    "driverC.get('https://www.juris.de/r3/search')\n",
    "driverC.maximize_window()\n",
    "\n",
    "# save the coockies\n",
    "pickle.dump(driverC.get_cookies() , open(\"QuoraCookies.pkl\",\"wb\"))\n",
    "for cookie in pickle.load(open(\"QuoraCookies.pkl\", \"rb\")): \n",
    "    driverC.add_cookie(cookie)\n",
    "driverC.implicitly_wait(10) # seconds   \n",
    "button = driverC.find_element_by_id(\"categories_hits_Rechtsprechung\")\n",
    "button.click()\n",
    "driverC.implicitly_wait(10) # seconds\n",
    "button = driverC.find_element_by_id(\"filter_Sachgebiete\")\n",
    "button.click()\n",
    "driverC.implicitly_wait(10) # seconds\n",
    "button = driverC.find_element_by_id(\"filter_Asylis___MILo\")\n",
    "button.click()\n",
    "driverC.implicitly_wait(10) # seconds\n",
    "button = driverC.find_element_by_id(\"filter_apply\")\n",
    "button.click()\n",
    "driverC.implicitly_wait(10) # seconds\n",
    "button = driverC.find_element_by_id(\"linkWorkId80896\")\n",
    "button.click()\n",
    "driverC.implicitly_wait(10) # seconds\n",
    "button = driverC.find_element_by_id(\"menuHitsPerPage\")\n",
    "button.click()\n",
    "driverC.implicitly_wait(10) # seconds\n",
    "button = driverC.find_element_by_id(\"menuHitsPerPage_100\")\n",
    "button.click()\n",
    "driverC.implicitly_wait(10) # seconds\n",
    "button = driverC.find_element_by_id(\"menuSortingOrder\")\n",
    "button.click()\n",
    "driverC.implicitly_wait(10) # seconds\n",
    "button = driverC.find_element_by_id(\"menuSortingOrder_Datum_aufsteigend\")\n",
    "button.click()\n",
    "driverC.implicitly_wait(10) # seconds\n"
   ]
  },
  {
   "cell_type": "markdown",
   "metadata": {},
   "source": [
    "download the PDFs: \n",
    "Collect the link of the pdfs for each of the 20454 elements (the number of elements may have changed in the time). In order to do that use the following function, which enters each of the 20454 element files, get the PDFs-link together with the coockies and save them as PDF. \n"
   ]
  },
  {
   "cell_type": "code",
   "execution_count": null,
   "metadata": {
    "scrolled": true
   },
   "outputs": [
    {
     "name": "stdout",
     "output_type": "stream",
     "text": [
      "resultlistentry_LI0\n",
      "got the PDFs, go one backhttps://www.juris.de/jportal/docs/anlage/as/bilder/bafl/10694236.pdf\n",
      "PDF saved\n",
      "get the next entry, becouse got PDF\n",
      "resultlistentry_LI1\n",
      "got the PDFs, go one backhttps://www.juris.de/jportal/docs/anlage/as/bilder/bafl/10442747.pdf\n",
      "PDF saved\n",
      "get the next entry, becouse got PDF\n",
      "resultlistentry_LI2\n",
      "got the PDFs, go one backhttps://www.juris.de/jportal/docs/anlage/as/bilder/bafl/10789791.pdf\n",
      "PDF saved\n",
      "get the next entry, becouse got PDF\n",
      "resultlistentry_LI3\n"
     ]
    }
   ],
   "source": [
    "# 0. Initialisation\n",
    "\n",
    "# i refers to the number of ducuments pro page and gives the function the id of the document we are looking for. Put i = j = 0\n",
    "i = 0 \n",
    "# j refers to the number of documents in total. Put i = j = 0\n",
    "j = 0\n",
    "# p refers to the number of the page. If you want to start by a certain page, change the number of the page but do not forget to move on the right page also in chrome, also page p \n",
    "p = 109 # check that p = page number on chrome\n",
    "# destination directory fo the pdfs\n",
    "destination_directory = \"D:/Urteile\"\n",
    "    \n",
    "# 1. repeat the function for the number of the documents: \n",
    "while j < 14751:\n",
    "    # get the name\n",
    "    # create the string, which indicates the element_id on the website, which we want to enter the element file with \n",
    "    str1 ='resultlistentry_LI' \n",
    "    str2 = \"{}\".format(i)\n",
    "    str = str1 + str2\n",
    "    print(str) \n",
    "    \n",
    "# 2. enter the element´s file  \n",
    "    time.sleep(1)\n",
    "    Urteil = driverC.find_element_by_id(str)\n",
    "    time.sleep(1)\n",
    "    Urteil.click()\n",
    "    driverC.implicitly_wait(5) # seconds \n",
    "    \n",
    "# 3. try to get the pdf and save it.\n",
    "    try: \n",
    "        ## try to get the pdf-link\n",
    "        #driverC.implicitly_wait(2) # seconds\n",
    "        pdf_a = driverC.find_element_by_css_selector(\"a[title='Im neuen Fenster: das folgende PDF-Dokument']\")\n",
    "        driverC.implicitly_wait(2) # seconds\n",
    "        link = pdf_a.get_attribute('href')    \n",
    "        driverC.implicitly_wait(2) # seconds\n",
    "        print(\"got the PDFs, go one back\" + link)\n",
    "        \n",
    "        ## try to get the cookies and acess the pdf through the cookies\n",
    "        cookies = driverC.get_cookies()\n",
    "        for cookie in cookies:\n",
    "            if cookie['name'] == 'JSESSIONID':\n",
    "                session_cookie = cookie['value']\n",
    "                        \n",
    "        cookies = {'JSESSIONID': session_cookie}\n",
    "        r = requests.get(link, cookies=cookies)\n",
    "        driverC.implicitly_wait(3) # seconds\n",
    "        \n",
    "        ## try to save the pdf\n",
    "        Titl1 ='resultlistentry_LI' \n",
    "        Titl2 = \"_{}\".format(i)\n",
    "        Titl3 = \"_{}\".format(p)\n",
    "        Titl = Titl1 + Titl3 + Titl2  \n",
    "        OutputFilename = os.path.join(destination_directory, Titl+\".pdf\")\n",
    "        f = open(OutputFilename, \"wb\")\n",
    "        f.write(r.content)\n",
    "        f.close()\n",
    "        print(\"PDF saved\")\n",
    "        driverC.implicitly_wait(3) # seconds\n",
    "    \n",
    "    # 3.1 If it does not work go back and go on with the other pdfs\n",
    "    except NoSuchElementException as err:\n",
    "        print(\"no PDF\")  \n",
    "        ## go back to the main page and go on with the other elements\n",
    "        backtoList = driverC.find_element_by_class_name(\"tlrahmen\")\n",
    "        driverC.implicitly_wait(5) # seconds \n",
    "        backtoList.click()\n",
    "        driverC.implicitly_wait(4) # seconds \n",
    "        print(\"get the next entry, since no PDF\") \n",
    "        ## increase i to check for the elements pro page; increase j to check for the 19151 elements\n",
    "        i = i+1\n",
    "        j = j+1 \n",
    "        ## if te last element change the page \n",
    "        if i == 100: \n",
    "            print(\"i is equal 100 - we got the 100th element of the page -, so change page\")  \n",
    "            p = p+1\n",
    "            print(\"NEXT page\" , p)\n",
    "            driverC.execute_script(\"window.scrollTo(0, 0);\")\n",
    "            driverC.implicitly_wait(4) # seconds \n",
    "            button = driverC.find_element_by_class_name(\"svg-icon-chevron_right\")\n",
    "            button.click() \n",
    "            driverC.implicitly_wait(4) # seconds \n",
    "            i= 0\n",
    "        ## go  on with the other PDFs\n",
    "        continue\n",
    "        \n",
    "    # 3.1 If it does work go back and go on with the other pdfs\n",
    "    ## go back to the main page and go on with the other elements\n",
    "    backtoList = driverC.find_element_by_class_name(\"tlrahmen\")\n",
    "    driverC.implicitly_wait(5) # seconds \n",
    "    backtoList.click()\n",
    "    driverC.implicitly_wait(4) # seconds \n",
    "    print(\"get the next entry, becouse got PDF\") \n",
    "    ## increase i to check for the elements pro page; increase j to check for the 19151 elements\n",
    "    i = i+1\n",
    "    j = j+1 \n",
    "    ## if te last element change the page \n",
    "    if i == 100: \n",
    "        print(\"i is equal 100 - we got the 100th element of the page -, so change page\")  \n",
    "        p = p+1\n",
    "        print(\"NEXT page\" , p)\n",
    "        driverC.execute_script(\"window.scrollTo(0, 0);\")\n",
    "        driverC.implicitly_wait(4) # seconds \n",
    "        button = driverC.find_element_by_class_name(\"svg-icon-chevron_right\")\n",
    "        button.click()\n",
    "        driverC.implicitly_wait(4) # seconds   \n",
    "        i= 0"
   ]
  }
 ],
 "metadata": {
  "kernelspec": {
   "display_name": "Python 3",
   "language": "python",
   "name": "python3"
  },
  "language_info": {
   "codemirror_mode": {
    "name": "ipython",
    "version": 3
   },
   "file_extension": ".py",
   "mimetype": "text/x-python",
   "name": "python",
   "nbconvert_exporter": "python",
   "pygments_lexer": "ipython3",
   "version": "3.8.3"
  }
 },
 "nbformat": 4,
 "nbformat_minor": 4
}
