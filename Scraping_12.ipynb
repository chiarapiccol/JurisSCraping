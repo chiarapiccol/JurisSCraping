{
 "cells": [
  {
   "cell_type": "markdown",
   "metadata": {},
   "source": [
    "SCRAPING - ss 21 \n",
    "--------------- \n",
    "> Chiara Piccolroaz\n",
    "\n",
    "> University of Konstanz\n",
    "\n",
    "> Department of Computer and Information Science; Department of political and administration science\n"
   ]
  },
  {
   "cell_type": "markdown",
   "metadata": {},
   "source": [
    "IMPORTING PACKAGES\n",
    "--------------------------\n",
    "\n",
    "WEbseiten for Scraping Juris : https://www.juris.de/jportal/portal/ and https://rzblx10.uni-regensburg.de/dbinfo/detail.php?bib_id=ubko&colors=&ocolors=&lett=f&tid=0&titel_id=865\n",
    "\n",
    "WebSeite for Installing Selenium: : https://www.jcchouinard.com/learn-selenium-python-seo-automation/"
   ]
  },
  {
   "cell_type": "code",
   "execution_count": 7,
   "metadata": {},
   "outputs": [],
   "source": [
    "import time\n",
    "from selenium import webdriver\n",
    "from selenium.webdriver.common.keys import Keys\n",
    "import selenium.webdriver.support.ui as ui\n",
    "import requests, PyPDF2\n",
    "from io import BytesIO\n",
    "import pickle \n",
    "import sys\n",
    "from selenium.common.exceptions import NoSuchElementException\n",
    "import os.path"
   ]
  },
  {
   "cell_type": "markdown",
   "metadata": {},
   "source": [
    "BEFOR STARTING:\n",
    "\n",
    "Make sure to: (1) be locked in the Uni-WLAN or connected with the Uni-VPN. (2) the packages have been download. (3) have acesss  to a really and stable good internet. It is the best if you use a LAN-Cable\n"
   ]
  },
  {
   "cell_type": "markdown",
   "metadata": {},
   "source": [
    "PART 1. Get Links\n",
    "-------------------------"
   ]
  },
  {
   "cell_type": "markdown",
   "metadata": {},
   "source": [
    "Open the Web and Select the relevant filers and buttons. Make sure to: run the sleep functions, otherwise the other functions will override. "
   ]
  },
  {
   "cell_type": "code",
   "execution_count": 8,
   "metadata": {},
   "outputs": [],
   "source": [
    "# ope the web\n",
    "driverC=webdriver.Chrome(executable_path=r\"C:\\chromedriver_win32\\chromedriver.exe\") \n",
    "driverC.get('https://www.juris.de/jportal/?action=JLoginUser&username=HEBISUKN.autologin')\n",
    "driverC.get('https://www.juris.de/r3/search')\n",
    "driverC.maximize_window()\n",
    "\n",
    "# save the coockies\n",
    "pickle.dump(driverC.get_cookies() , open(\"QuoraCookies.pkl\",\"wb\"))\n",
    "for cookie in pickle.load(open(\"QuoraCookies.pkl\", \"rb\")): \n",
    "    driverC.add_cookie(cookie)\n",
    "driverC.implicitly_wait(10) # seconds   \n",
    "button = driverC.find_element_by_id(\"categories_hits_Rechtsprechung\")\n",
    "button.click()\n",
    "driverC.implicitly_wait(10) # seconds\n",
    "button = driverC.find_element_by_id(\"filter_Sachgebiete\")\n",
    "button.click()\n",
    "driverC.implicitly_wait(10) # seconds\n",
    "button = driverC.find_element_by_id(\"filter_Asylis___MILo\")\n",
    "button.click()\n",
    "driverC.implicitly_wait(10) # seconds\n",
    "button = driverC.find_element_by_id(\"filter_apply\")\n",
    "button.click()\n",
    "driverC.implicitly_wait(10) # seconds\n",
    "button = driverC.find_element_by_id(\"linkWorkId80896\")\n",
    "button.click()\n",
    "driverC.implicitly_wait(10) # seconds\n",
    "button = driverC.find_element_by_id(\"menuHitsPerPage\")\n",
    "button.click()\n",
    "driverC.implicitly_wait(10) # seconds\n",
    "button = driverC.find_element_by_id(\"menuHitsPerPage_100\")\n",
    "button.click()\n",
    "driverC.implicitly_wait(10) # seconds\n"
   ]
  },
  {
   "cell_type": "markdown",
   "metadata": {},
   "source": [
    "Collect the links: \n",
    "Collect the link of the pdfs for each of the 19151 elements. In order to do that use the following function, which enters each of the 19151 element files, get all PDFs-links and save them in a list. \n",
    "\n",
    "We now try for 10 PDFs. The number 10 must be replaced by 19151 when running the projekt for real"
   ]
  },
  {
   "cell_type": "code",
   "execution_count": 10,
   "metadata": {},
   "outputs": [
    {
     "name": "stdout",
     "output_type": "stream",
     "text": [
      "resultlistentry_LI0\n",
      "no PDF\n",
      "get the next entry, since no PDF\n",
      "resultlistentry_LI1\n",
      "no PDF\n"
     ]
    },
    {
     "ename": "NoSuchElementException",
     "evalue": "Message: no such element: Unable to locate element: {\"method\":\"css selector\",\"selector\":\".tlrahmen\"}\n  (Session info: chrome=91.0.4472.164)\n",
     "output_type": "error",
     "traceback": [
      "\u001b[1;31m---------------------------------------------------------------------------\u001b[0m",
      "\u001b[1;31mNoSuchElementException\u001b[0m                    Traceback (most recent call last)",
      "\u001b[1;32m<ipython-input-10-23342f315c96>\u001b[0m in \u001b[0;36m<module>\u001b[1;34m\u001b[0m\n\u001b[0;32m     29\u001b[0m         \u001b[1;31m## try to get the pdf-link\u001b[0m\u001b[1;33m\u001b[0m\u001b[1;33m\u001b[0m\u001b[1;33m\u001b[0m\u001b[0m\n\u001b[1;32m---> 30\u001b[1;33m         \u001b[0mpdf_a\u001b[0m \u001b[1;33m=\u001b[0m \u001b[0mdriverC\u001b[0m\u001b[1;33m.\u001b[0m\u001b[0mfind_element_by_css_selector\u001b[0m\u001b[1;33m(\u001b[0m\u001b[1;34m\"a[title='Im neuen Fenster: das folgende PDF-Dokument']\"\u001b[0m\u001b[1;33m)\u001b[0m\u001b[1;33m\u001b[0m\u001b[1;33m\u001b[0m\u001b[0m\n\u001b[0m\u001b[0;32m     31\u001b[0m         \u001b[0mlink\u001b[0m \u001b[1;33m=\u001b[0m \u001b[0mpdf_a\u001b[0m\u001b[1;33m.\u001b[0m\u001b[0mget_attribute\u001b[0m\u001b[1;33m(\u001b[0m\u001b[1;34m'href'\u001b[0m\u001b[1;33m)\u001b[0m\u001b[1;33m\u001b[0m\u001b[1;33m\u001b[0m\u001b[0m\n",
      "\u001b[1;32m~\\anaconda3\\lib\\site-packages\\selenium\\webdriver\\remote\\webdriver.py\u001b[0m in \u001b[0;36mfind_element_by_css_selector\u001b[1;34m(self, css_selector)\u001b[0m\n\u001b[0;32m    597\u001b[0m         \"\"\"\n\u001b[1;32m--> 598\u001b[1;33m         \u001b[1;32mreturn\u001b[0m \u001b[0mself\u001b[0m\u001b[1;33m.\u001b[0m\u001b[0mfind_element\u001b[0m\u001b[1;33m(\u001b[0m\u001b[0mby\u001b[0m\u001b[1;33m=\u001b[0m\u001b[0mBy\u001b[0m\u001b[1;33m.\u001b[0m\u001b[0mCSS_SELECTOR\u001b[0m\u001b[1;33m,\u001b[0m \u001b[0mvalue\u001b[0m\u001b[1;33m=\u001b[0m\u001b[0mcss_selector\u001b[0m\u001b[1;33m)\u001b[0m\u001b[1;33m\u001b[0m\u001b[1;33m\u001b[0m\u001b[0m\n\u001b[0m\u001b[0;32m    599\u001b[0m \u001b[1;33m\u001b[0m\u001b[0m\n",
      "\u001b[1;32m~\\anaconda3\\lib\\site-packages\\selenium\\webdriver\\remote\\webdriver.py\u001b[0m in \u001b[0;36mfind_element\u001b[1;34m(self, by, value)\u001b[0m\n\u001b[0;32m    975\u001b[0m                 \u001b[0mvalue\u001b[0m \u001b[1;33m=\u001b[0m \u001b[1;34m'[name=\"%s\"]'\u001b[0m \u001b[1;33m%\u001b[0m \u001b[0mvalue\u001b[0m\u001b[1;33m\u001b[0m\u001b[1;33m\u001b[0m\u001b[0m\n\u001b[1;32m--> 976\u001b[1;33m         return self.execute(Command.FIND_ELEMENT, {\n\u001b[0m\u001b[0;32m    977\u001b[0m             \u001b[1;34m'using'\u001b[0m\u001b[1;33m:\u001b[0m \u001b[0mby\u001b[0m\u001b[1;33m,\u001b[0m\u001b[1;33m\u001b[0m\u001b[1;33m\u001b[0m\u001b[0m\n",
      "\u001b[1;32m~\\anaconda3\\lib\\site-packages\\selenium\\webdriver\\remote\\webdriver.py\u001b[0m in \u001b[0;36mexecute\u001b[1;34m(self, driver_command, params)\u001b[0m\n\u001b[0;32m    320\u001b[0m         \u001b[1;32mif\u001b[0m \u001b[0mresponse\u001b[0m\u001b[1;33m:\u001b[0m\u001b[1;33m\u001b[0m\u001b[1;33m\u001b[0m\u001b[0m\n\u001b[1;32m--> 321\u001b[1;33m             \u001b[0mself\u001b[0m\u001b[1;33m.\u001b[0m\u001b[0merror_handler\u001b[0m\u001b[1;33m.\u001b[0m\u001b[0mcheck_response\u001b[0m\u001b[1;33m(\u001b[0m\u001b[0mresponse\u001b[0m\u001b[1;33m)\u001b[0m\u001b[1;33m\u001b[0m\u001b[1;33m\u001b[0m\u001b[0m\n\u001b[0m\u001b[0;32m    322\u001b[0m             response['value'] = self._unwrap_value(\n",
      "\u001b[1;32m~\\anaconda3\\lib\\site-packages\\selenium\\webdriver\\remote\\errorhandler.py\u001b[0m in \u001b[0;36mcheck_response\u001b[1;34m(self, response)\u001b[0m\n\u001b[0;32m    241\u001b[0m             \u001b[1;32mraise\u001b[0m \u001b[0mexception_class\u001b[0m\u001b[1;33m(\u001b[0m\u001b[0mmessage\u001b[0m\u001b[1;33m,\u001b[0m \u001b[0mscreen\u001b[0m\u001b[1;33m,\u001b[0m \u001b[0mstacktrace\u001b[0m\u001b[1;33m,\u001b[0m \u001b[0malert_text\u001b[0m\u001b[1;33m)\u001b[0m\u001b[1;33m\u001b[0m\u001b[1;33m\u001b[0m\u001b[0m\n\u001b[1;32m--> 242\u001b[1;33m         \u001b[1;32mraise\u001b[0m \u001b[0mexception_class\u001b[0m\u001b[1;33m(\u001b[0m\u001b[0mmessage\u001b[0m\u001b[1;33m,\u001b[0m \u001b[0mscreen\u001b[0m\u001b[1;33m,\u001b[0m \u001b[0mstacktrace\u001b[0m\u001b[1;33m)\u001b[0m\u001b[1;33m\u001b[0m\u001b[1;33m\u001b[0m\u001b[0m\n\u001b[0m\u001b[0;32m    243\u001b[0m \u001b[1;33m\u001b[0m\u001b[0m\n",
      "\u001b[1;31mNoSuchElementException\u001b[0m: Message: no such element: Unable to locate element: {\"method\":\"css selector\",\"selector\":\"a[title='Im neuen Fenster: das folgende PDF-Dokument']\"}\n  (Session info: chrome=91.0.4472.164)\n",
      "\nDuring handling of the above exception, another exception occurred:\n",
      "\u001b[1;31mNoSuchElementException\u001b[0m                    Traceback (most recent call last)",
      "\u001b[1;32m<ipython-input-10-23342f315c96>\u001b[0m in \u001b[0;36m<module>\u001b[1;34m\u001b[0m\n\u001b[0;32m     39\u001b[0m \u001b[1;33m\u001b[0m\u001b[0m\n\u001b[0;32m     40\u001b[0m         \u001b[1;31m## go back to the main page and go on with the other elements\u001b[0m\u001b[1;33m\u001b[0m\u001b[1;33m\u001b[0m\u001b[1;33m\u001b[0m\u001b[0m\n\u001b[1;32m---> 41\u001b[1;33m         \u001b[0mbacktoList\u001b[0m \u001b[1;33m=\u001b[0m \u001b[0mdriverC\u001b[0m\u001b[1;33m.\u001b[0m\u001b[0mfind_element_by_class_name\u001b[0m\u001b[1;33m(\u001b[0m\u001b[1;34m\"tlrahmen\"\u001b[0m\u001b[1;33m)\u001b[0m\u001b[1;33m\u001b[0m\u001b[1;33m\u001b[0m\u001b[0m\n\u001b[0m\u001b[0;32m     42\u001b[0m         \u001b[0mbacktoList\u001b[0m\u001b[1;33m.\u001b[0m\u001b[0mclick\u001b[0m\u001b[1;33m(\u001b[0m\u001b[1;33m)\u001b[0m\u001b[1;33m\u001b[0m\u001b[1;33m\u001b[0m\u001b[0m\n\u001b[0;32m     43\u001b[0m         \u001b[0mdriverC\u001b[0m\u001b[1;33m.\u001b[0m\u001b[0mimplicitly_wait\u001b[0m\u001b[1;33m(\u001b[0m\u001b[1;36m3\u001b[0m\u001b[1;33m)\u001b[0m \u001b[1;31m# seconds\u001b[0m\u001b[1;33m\u001b[0m\u001b[1;33m\u001b[0m\u001b[0m\n",
      "\u001b[1;32m~\\anaconda3\\lib\\site-packages\\selenium\\webdriver\\remote\\webdriver.py\u001b[0m in \u001b[0;36mfind_element_by_class_name\u001b[1;34m(self, name)\u001b[0m\n\u001b[0;32m    562\u001b[0m             \u001b[0melement\u001b[0m \u001b[1;33m=\u001b[0m \u001b[0mdriver\u001b[0m\u001b[1;33m.\u001b[0m\u001b[0mfind_element_by_class_name\u001b[0m\u001b[1;33m(\u001b[0m\u001b[1;34m'foo'\u001b[0m\u001b[1;33m)\u001b[0m\u001b[1;33m\u001b[0m\u001b[1;33m\u001b[0m\u001b[0m\n\u001b[0;32m    563\u001b[0m         \"\"\"\n\u001b[1;32m--> 564\u001b[1;33m         \u001b[1;32mreturn\u001b[0m \u001b[0mself\u001b[0m\u001b[1;33m.\u001b[0m\u001b[0mfind_element\u001b[0m\u001b[1;33m(\u001b[0m\u001b[0mby\u001b[0m\u001b[1;33m=\u001b[0m\u001b[0mBy\u001b[0m\u001b[1;33m.\u001b[0m\u001b[0mCLASS_NAME\u001b[0m\u001b[1;33m,\u001b[0m \u001b[0mvalue\u001b[0m\u001b[1;33m=\u001b[0m\u001b[0mname\u001b[0m\u001b[1;33m)\u001b[0m\u001b[1;33m\u001b[0m\u001b[1;33m\u001b[0m\u001b[0m\n\u001b[0m\u001b[0;32m    565\u001b[0m \u001b[1;33m\u001b[0m\u001b[0m\n\u001b[0;32m    566\u001b[0m     \u001b[1;32mdef\u001b[0m \u001b[0mfind_elements_by_class_name\u001b[0m\u001b[1;33m(\u001b[0m\u001b[0mself\u001b[0m\u001b[1;33m,\u001b[0m \u001b[0mname\u001b[0m\u001b[1;33m)\u001b[0m\u001b[1;33m:\u001b[0m\u001b[1;33m\u001b[0m\u001b[1;33m\u001b[0m\u001b[0m\n",
      "\u001b[1;32m~\\anaconda3\\lib\\site-packages\\selenium\\webdriver\\remote\\webdriver.py\u001b[0m in \u001b[0;36mfind_element\u001b[1;34m(self, by, value)\u001b[0m\n\u001b[0;32m    974\u001b[0m                 \u001b[0mby\u001b[0m \u001b[1;33m=\u001b[0m \u001b[0mBy\u001b[0m\u001b[1;33m.\u001b[0m\u001b[0mCSS_SELECTOR\u001b[0m\u001b[1;33m\u001b[0m\u001b[1;33m\u001b[0m\u001b[0m\n\u001b[0;32m    975\u001b[0m                 \u001b[0mvalue\u001b[0m \u001b[1;33m=\u001b[0m \u001b[1;34m'[name=\"%s\"]'\u001b[0m \u001b[1;33m%\u001b[0m \u001b[0mvalue\u001b[0m\u001b[1;33m\u001b[0m\u001b[1;33m\u001b[0m\u001b[0m\n\u001b[1;32m--> 976\u001b[1;33m         return self.execute(Command.FIND_ELEMENT, {\n\u001b[0m\u001b[0;32m    977\u001b[0m             \u001b[1;34m'using'\u001b[0m\u001b[1;33m:\u001b[0m \u001b[0mby\u001b[0m\u001b[1;33m,\u001b[0m\u001b[1;33m\u001b[0m\u001b[1;33m\u001b[0m\u001b[0m\n\u001b[0;32m    978\u001b[0m             'value': value})['value']\n",
      "\u001b[1;32m~\\anaconda3\\lib\\site-packages\\selenium\\webdriver\\remote\\webdriver.py\u001b[0m in \u001b[0;36mexecute\u001b[1;34m(self, driver_command, params)\u001b[0m\n\u001b[0;32m    319\u001b[0m         \u001b[0mresponse\u001b[0m \u001b[1;33m=\u001b[0m \u001b[0mself\u001b[0m\u001b[1;33m.\u001b[0m\u001b[0mcommand_executor\u001b[0m\u001b[1;33m.\u001b[0m\u001b[0mexecute\u001b[0m\u001b[1;33m(\u001b[0m\u001b[0mdriver_command\u001b[0m\u001b[1;33m,\u001b[0m \u001b[0mparams\u001b[0m\u001b[1;33m)\u001b[0m\u001b[1;33m\u001b[0m\u001b[1;33m\u001b[0m\u001b[0m\n\u001b[0;32m    320\u001b[0m         \u001b[1;32mif\u001b[0m \u001b[0mresponse\u001b[0m\u001b[1;33m:\u001b[0m\u001b[1;33m\u001b[0m\u001b[1;33m\u001b[0m\u001b[0m\n\u001b[1;32m--> 321\u001b[1;33m             \u001b[0mself\u001b[0m\u001b[1;33m.\u001b[0m\u001b[0merror_handler\u001b[0m\u001b[1;33m.\u001b[0m\u001b[0mcheck_response\u001b[0m\u001b[1;33m(\u001b[0m\u001b[0mresponse\u001b[0m\u001b[1;33m)\u001b[0m\u001b[1;33m\u001b[0m\u001b[1;33m\u001b[0m\u001b[0m\n\u001b[0m\u001b[0;32m    322\u001b[0m             response['value'] = self._unwrap_value(\n\u001b[0;32m    323\u001b[0m                 response.get('value', None))\n",
      "\u001b[1;32m~\\anaconda3\\lib\\site-packages\\selenium\\webdriver\\remote\\errorhandler.py\u001b[0m in \u001b[0;36mcheck_response\u001b[1;34m(self, response)\u001b[0m\n\u001b[0;32m    240\u001b[0m                 \u001b[0malert_text\u001b[0m \u001b[1;33m=\u001b[0m \u001b[0mvalue\u001b[0m\u001b[1;33m[\u001b[0m\u001b[1;34m'alert'\u001b[0m\u001b[1;33m]\u001b[0m\u001b[1;33m.\u001b[0m\u001b[0mget\u001b[0m\u001b[1;33m(\u001b[0m\u001b[1;34m'text'\u001b[0m\u001b[1;33m)\u001b[0m\u001b[1;33m\u001b[0m\u001b[1;33m\u001b[0m\u001b[0m\n\u001b[0;32m    241\u001b[0m             \u001b[1;32mraise\u001b[0m \u001b[0mexception_class\u001b[0m\u001b[1;33m(\u001b[0m\u001b[0mmessage\u001b[0m\u001b[1;33m,\u001b[0m \u001b[0mscreen\u001b[0m\u001b[1;33m,\u001b[0m \u001b[0mstacktrace\u001b[0m\u001b[1;33m,\u001b[0m \u001b[0malert_text\u001b[0m\u001b[1;33m)\u001b[0m\u001b[1;33m\u001b[0m\u001b[1;33m\u001b[0m\u001b[0m\n\u001b[1;32m--> 242\u001b[1;33m         \u001b[1;32mraise\u001b[0m \u001b[0mexception_class\u001b[0m\u001b[1;33m(\u001b[0m\u001b[0mmessage\u001b[0m\u001b[1;33m,\u001b[0m \u001b[0mscreen\u001b[0m\u001b[1;33m,\u001b[0m \u001b[0mstacktrace\u001b[0m\u001b[1;33m)\u001b[0m\u001b[1;33m\u001b[0m\u001b[1;33m\u001b[0m\u001b[0m\n\u001b[0m\u001b[0;32m    243\u001b[0m \u001b[1;33m\u001b[0m\u001b[0m\n\u001b[0;32m    244\u001b[0m     \u001b[1;32mdef\u001b[0m \u001b[0m_value_or_default\u001b[0m\u001b[1;33m(\u001b[0m\u001b[0mself\u001b[0m\u001b[1;33m,\u001b[0m \u001b[0mobj\u001b[0m\u001b[1;33m,\u001b[0m \u001b[0mkey\u001b[0m\u001b[1;33m,\u001b[0m \u001b[0mdefault\u001b[0m\u001b[1;33m)\u001b[0m\u001b[1;33m:\u001b[0m\u001b[1;33m\u001b[0m\u001b[1;33m\u001b[0m\u001b[0m\n",
      "\u001b[1;31mNoSuchElementException\u001b[0m: Message: no such element: Unable to locate element: {\"method\":\"css selector\",\"selector\":\".tlrahmen\"}\n  (Session info: chrome=91.0.4472.164)\n"
     ]
    }
   ],
   "source": [
    "# 0. Initialisation\n",
    "\n",
    "# i refers to the number of ducuments pro page and gives the function the id of the document we are looking for. Put i = j = 0\n",
    "i = 0 \n",
    "# j refers to the number of documents in total. Put i = j = 0\n",
    "j = 0\n",
    "# p refers to the number of the page. If you want to start by a certain page, change the number of the page but do not forget to move on the right page also in chrome, also page p \n",
    "p = 44 # check that p = page number on chrome\n",
    "# destination directory fo the pdfs\n",
    "destination_directory = \"D:/Urteile\"\n",
    "    \n",
    "# 1. repeat the function for the number of the documents: \n",
    "while j < 15051:\n",
    "    # get the name\n",
    "    # create the string, which indicates the element_id on the website, which we want to enter the element file with \n",
    "    str1 ='resultlistentry_LI' \n",
    "    str2 = \"{}\".format(i)\n",
    "    str = str1 + str2\n",
    "    print(str) \n",
    "    \n",
    "# 2. enter the element´s file\n",
    "    driverC.implicitly_wait(5) # seconds\n",
    "    Urteil = driverC.find_element_by_id(str) \n",
    "    Urteil.click()\n",
    "    driverC.implicitly_wait(5) # seconds \n",
    "    \n",
    "# 3. try to get the pdf and save it.\n",
    "    try: \n",
    "        ## try to get the pdf-link\n",
    "        pdf_a = driverC.find_element_by_css_selector(\"a[title='Im neuen Fenster: das folgende PDF-Dokument']\")\n",
    "        link = pdf_a.get_attribute('href')    \n",
    "        driverC.implicitly_wait(3) # seconds\n",
    "        print(\"got the PDFs, go one back\" + link)\n",
    "    \n",
    "    # 3.1 If the pdf-link has not been found, go on with the other pdfs\n",
    "    \n",
    "    except NoSuchElementException as err:\n",
    "        print(\"no PDF\")     \n",
    "        \n",
    "        ## go back to the main page and go on with the other elements\n",
    "        backtoList = driverC.find_element_by_class_name(\"tlrahmen\")\n",
    "        backtoList.click()\n",
    "        driverC.implicitly_wait(3) # seconds \n",
    "        print(\"get the next entry, since no PDF\") \n",
    "        \n",
    "        ## increase i to check for the elements pro page; increase j to check for the 19151 elements\n",
    "        i = i+1\n",
    "        j = j+1 \n",
    "        \n",
    "        ## if te last element change the page \n",
    "        if i == 100: \n",
    "            print(\"i is equal 100 - we got the 100th element of the page -, so change page\")  \n",
    "            p = p+1\n",
    "            print(\"NEXT page\" , p)\n",
    "            driverC.execute_script(\"window.scrollTo(0, 0);\")\n",
    "            driverC.implicitly_wait(5) # seconds \n",
    "            button = driverC.find_element_by_class_name(\"svg-icon-chevron_right\")\n",
    "            button.click() \n",
    "            driverC.implicitly_wait(5) # seconds \n",
    "            i= 0\n",
    "            \n",
    "        ## go  on with the other PDFs\n",
    "        continue\n",
    "        \n",
    "    # 3.1 If the pdf-link has been found, go on with the other pdfs\n",
    "    \n",
    "    ## get the cookies and acess the pdf through the cookies\n",
    "    cookies = driverC.get_cookies()\n",
    "    driverC.implicitly_wait(5) # seconds\n",
    "    for cookie in cookies:\n",
    "        if cookie['name'] == 'JSESSIONID':\n",
    "            session_cookie = cookie['value']\n",
    "                        \n",
    "    cookies = {'JSESSIONID': session_cookie}\n",
    "    r = requests.get(link, cookies=cookies)\n",
    "    driverC.implicitly_wait(5) # seconds\n",
    "        \n",
    "    ## save the pdf\n",
    "    Titl1 ='resultlistentry_LI' \n",
    "    Titl2 = \"_{}\".format(i)\n",
    "    Titl3 = \"_{}\".format(p)\n",
    "    Titl = Titl1 + Titl3 + Titl2  \n",
    "    OutputFilename = os.path.join(destination_directory, Titl+\".pdf\")\n",
    "    f = open(OutputFilename, \"wb\")\n",
    "    f.write(r.content)\n",
    "    f.close()\n",
    "    print(\"PDF saved\")\n",
    "    driverC.implicitly_wait(5) # seconds\n",
    "    \n",
    "    ## go back to the main page and go on with the other elements\n",
    "    backtoList = driverC.find_element_by_class_name(\"tlrahmen\")\n",
    "    backtoList.click()\n",
    "    driverC.implicitly_wait(5) # seconds \n",
    "    print(\"get the next entry, becouse got PDF\") \n",
    "    \n",
    "    ## increase i to check for the elements pro page; increase j to check for the 19151 elements\n",
    "    i = i+1\n",
    "    j = j+1 \n",
    "    \n",
    "    ## if te last element change the page \n",
    "    if i == 100: \n",
    "        print(\"i is equal 100 - we got the 100th element of the page -, so change page\")  \n",
    "        p = p+1\n",
    "        print(\"NEXT page\" , p)\n",
    "        driverC.execute_script(\"window.scrollTo(0, 0);\")\n",
    "        driverC.implicitly_wait(5) # seconds \n",
    "        button = driverC.find_element_by_class_name(\"svg-icon-chevron_right\")\n",
    "        button.click()\n",
    "        driverC.implicitly_wait(5) # seconds   \n",
    "        i= 0"
   ]
  }
 ],
 "metadata": {
  "kernelspec": {
   "display_name": "Python 3",
   "language": "python",
   "name": "python3"
  },
  "language_info": {
   "codemirror_mode": {
    "name": "ipython",
    "version": 3
   },
   "file_extension": ".py",
   "mimetype": "text/x-python",
   "name": "python",
   "nbconvert_exporter": "python",
   "pygments_lexer": "ipython3",
   "version": "3.8.3"
  }
 },
 "nbformat": 4,
 "nbformat_minor": 4
}
