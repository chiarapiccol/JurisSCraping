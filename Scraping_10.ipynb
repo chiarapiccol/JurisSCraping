{
 "cells": [
  {
   "cell_type": "markdown",
   "metadata": {},
   "source": [
    "SCRAPING - ss 21 \n",
    "--------------- \n",
    "> Chiara Piccolroaz\n",
    "\n",
    "> University of Konstanz\n",
    "\n",
    "> Department of Computer and Information Science; Department of political and administration science\n"
   ]
  },
  {
   "cell_type": "markdown",
   "metadata": {},
   "source": [
    "IMPORTING PACKAGES\n",
    "--------------------------\n",
    "\n",
    "WEbseiten for Scraping Juris : https://www.juris.de/jportal/portal/ and https://rzblx10.uni-regensburg.de/dbinfo/detail.php?bib_id=ubko&colors=&ocolors=&lett=f&tid=0&titel_id=865\n",
    "\n",
    "WebSeite for Installing Selenium: : https://www.jcchouinard.com/learn-selenium-python-seo-automation/"
   ]
  },
  {
   "cell_type": "code",
   "execution_count": null,
   "metadata": {},
   "outputs": [],
   "source": [
    "import time\n",
    "from selenium import webdriver\n",
    "from selenium.webdriver.common.keys import Keys\n",
    "import selenium.webdriver.support.ui as ui\n",
    "import requests, PyPDF2\n",
    "from io import BytesIO\n",
    "import pickle \n",
    "import sys\n",
    "from selenium.common.exceptions import NoSuchElementException\n",
    "import os.path"
   ]
  },
  {
   "cell_type": "markdown",
   "metadata": {},
   "source": [
    "BEFOR STARTING:\n",
    "\n",
    " Make sure to: (1) be locked in the Uni-WLAN or connected with the Uni-VPN. (2) the packages have been download\n",
    "\n",
    "IDEE OF THE PROJEKT: \n",
    "\n",
    "It is for us impossible to download the PDF, which we need (is there maybe another way?). For this reason, we first extract the PDFs-links (Part1), so that we can use another function (Part2), to reopen the PDFs, extract the text and save it in a text-file. \n",
    "\n",
    "PROBLEME: \n",
    "\n",
    "(1) Ich werde nach ein paar Stunden Scraping automatisch von der Website abgemeldet, was dazu führt, dass der ganze Prozess aufhört und die Webseite nich nicht merken kann, welche die letzte Operation war. \n",
    "(2) Part 2 works only on not-Juris PDFs"
   ]
  },
  {
   "cell_type": "markdown",
   "metadata": {},
   "source": [
    "PART 1. Get Links\n",
    "-------------------------"
   ]
  },
  {
   "cell_type": "markdown",
   "metadata": {},
   "source": [
    "Open the Web"
   ]
  },
  {
   "cell_type": "code",
   "execution_count": 44,
   "metadata": {},
   "outputs": [],
   "source": [
    "driverC=webdriver.Chrome(executable_path=r\"C:\\chromedriver_win32\\chromedriver.exe\") \n",
    "driverC.get('https://www.juris.de/jportal/?action=JLoginUser&username=HEBISUKN.autologin')\n",
    "driverC.get('https://www.juris.de/r3/search')\n",
    "driverC.maximize_window()\n",
    "# save the coockies\n",
    "pickle.dump(driverC.get_cookies() , open(\"QuoraCookies.pkl\",\"wb\"))\n",
    "for cookie in pickle.load(open(\"QuoraCookies.pkl\", \"rb\")): \n",
    "    driverC.add_cookie(cookie)"
   ]
  },
  {
   "cell_type": "markdown",
   "metadata": {},
   "source": [
    "Select the relevant filers and buttons. Make sure to: run the sleep functions, otherwise the other functions will override. \n"
   ]
  },
  {
   "cell_type": "code",
   "execution_count": 46,
   "metadata": {},
   "outputs": [],
   "source": [
    "button = driverC.find_element_by_id(\"categories_hits_Rechtsprechung\")\n",
    "button.click()\n",
    "time.sleep(2) \n",
    "button = driverC.find_element_by_id(\"filter_Sachgebiete\")\n",
    "button.click()\n",
    "time.sleep(2) \n",
    "button = driverC.find_element_by_id(\"filter_Asylis___MILo\")\n",
    "button.click()\n",
    "time.sleep(2) \n",
    "button = driverC.find_element_by_id(\"filter_apply\")\n",
    "button.click()\n",
    "time.sleep(2) \n",
    "button = driverC.find_element_by_id(\"linkWorkId80896\")\n",
    "button.click()\n",
    "time.sleep(2) "
   ]
  },
  {
   "cell_type": "markdown",
   "metadata": {},
   "source": [
    "Collect the links: \n",
    "Collect the link of the pdfs for each of the 19151 elements. In order to do that use the following function, which enters each of the 19151 element files, get all PDFs-links and save them in a list. \n",
    "\n",
    "We now try for 10 PDFs. The number 10 must be replaced by 19151 when running the projekt for real"
   ]
  },
  {
   "cell_type": "code",
   "execution_count": 54,
   "metadata": {},
   "outputs": [
    {
     "name": "stdout",
     "output_type": "stream",
     "text": [
      "resultlistentry_LI0\n",
      "no PDF\n",
      "get the next entry, since no PDF\n",
      "resultlistentry_LI1\n",
      "no PDF\n",
      "get the next entry, since no PDF\n",
      "resultlistentry_LI2\n",
      "no PDF\n",
      "get the next entry, since no PDF\n",
      "resultlistentry_LI3\n",
      "got the PDFs, go one backhttps://www.juris.de/jportal/docs/anlage/as/bilder/bafl/18455390.pdf\n",
      "PDF saved\n",
      "get the next entry, becouse got PDF\n",
      "resultlistentry_LI4\n",
      "got the PDFs, go one backhttps://www.juris.de/jportal/docs/anlage/as/bilder/bafl/17130144.pdf\n",
      "PDF saved\n",
      "get the next entry, becouse got PDF\n",
      "resultlistentry_LI5\n",
      "got the PDFs, go one backhttps://www.juris.de/jportal/docs/anlage/as/bilder/bafl/16634543.pdf\n",
      "PDF saved\n",
      "get the next entry, becouse got PDF\n",
      "resultlistentry_LI6\n",
      "got the PDFs, go one backhttps://www.juris.de/jportal/docs/anlage/as/bilder/bafl/16387029.pdf\n",
      "PDF saved\n",
      "get the next entry, becouse got PDF\n"
     ]
    }
   ],
   "source": [
    "# 0. Initialisation\n",
    "\n",
    "# the list the PDF-files are gonna be saved in\n",
    "listPDFs = [] \n",
    "# i refers to the number of ducuments pro page and gives the function the id of the document we are looking for. Put i = j = 0\n",
    "i = 0 \n",
    "# j refers to the number of documents in total. Put i = j = 0\n",
    "j = 0\n",
    "# p refers to the number of the page \n",
    "p = 1\n",
    "# destination directory fo the pdfs\n",
    "destination_directory = \"C:/Users/Public/Downloads\"\n",
    "    \n",
    "# 0. repeat the function for the number of the documents: \n",
    "while j < 7:\n",
    "    # get the name\n",
    "    # create the string, which indicates the element_id on the website, which we want to enter the element file with \n",
    "    str1 ='resultlistentry_LI' \n",
    "    str2 = \"{}\".format(i)\n",
    "    str = str1 + str2\n",
    "    print(str) \n",
    "    \n",
    "# 1. enter the element´s file\n",
    "    Urteil = driverC.find_element_by_id(str) \n",
    "    Urteil.click()\n",
    "    time.sleep(3) \n",
    "    \n",
    "# 2. try to get the pdf and save it.\n",
    "    try: \n",
    "        ## get the pdf-link\n",
    "        pdf_a = driverC.find_element_by_css_selector(\"a[title='Im neuen Fenster: das folgende PDF-Dokument']\")\n",
    "        link = pdf_a.get_attribute('href')    \n",
    "        print(\"got the PDFs, go one back\" + link)\n",
    "        time.sleep(1)\n",
    "        \n",
    "        ## get the cookies and acess the pdf through the cookies\n",
    "        cookies = driverC.get_cookies()\n",
    "        for cookie in cookies:\n",
    "            if cookie['name'] == 'JSESSIONID':\n",
    "                session_cookie = cookie['value']\n",
    "                        \n",
    "        cookies = {'JSESSIONID': session_cookie}\n",
    "        r = requests.get(link, cookies=cookies)\n",
    "        time.sleep(1)\n",
    "        \n",
    "        ## save the pdf\n",
    "        Titl1 ='resultlistentry_LI' \n",
    "        Titl2 = \"{}\".format(i)\n",
    "        Titl3 = \"_{}\".format(p)\n",
    "        Titl = Titl1 + Titl2 + Titl3  \n",
    "        OutputFilename = os.path.join(destination_directory, Titl+\".pdf\")\n",
    "        f = open(OutputFilename, \"wb\")\n",
    "        f.write(r.content)\n",
    "        f.close()\n",
    "        print(\"PDF saved\")\n",
    "        time.sleep(1)\n",
    "    \n",
    "    # 2.1 If it does not work go back and go on with the other pdfs\n",
    "    \n",
    "    except NoSuchElementException as err:\n",
    "        print(\"no PDF\")     \n",
    "        ## go back to the main page and go on with the other elements\n",
    "        backtoList = driverC.find_element_by_class_name(\"tlrahmen\")\n",
    "        backtoList.click()\n",
    "        time.sleep(2) \n",
    "        print(\"get the next entry, since no PDF\")  \n",
    "        ## increase i to check for the elements pro page; increase j to check for the 19151 elements\n",
    "        i = i+1\n",
    "        j = j+1 \n",
    "        ## if te last element change the page \n",
    "        if i == 25: \n",
    "            print(\"i is equal 25 - we got the 25th element of the page -, so change page\")  \n",
    "            p = p+1\n",
    "            print(\"NEXT page\" , p)\n",
    "            driverC.execute_script(\"window.scrollTo(0, 0);\")\n",
    "            button = driverC.find_element_by_class_name(\"svg-icon-chevron_right\")\n",
    "            button.click()\n",
    "            time.sleep(2)  \n",
    "            i= 0\n",
    "       ## go  on with the other PDFs\n",
    "        continue\n",
    "        \n",
    "    # 2.1 If it does work go back and go on with the other pdfs\n",
    "    \n",
    "    ## go back to the main page and go on with the other elements\n",
    "    backtoList = driverC.find_element_by_class_name(\"tlrahmen\")\n",
    "    backtoList.click()\n",
    "    time.sleep(2) \n",
    "    print(\"get the next entry, becouse got PDF\") \n",
    "    ## increase i to check for the elements pro page; increase j to check for the 19151 elements\n",
    "    i = i+1\n",
    "    j = j+1 \n",
    "    ## if te last element change the page \n",
    "    if i == 25: \n",
    "        print(\"i is equal 25 - we got the 25th element of the page -, so change page\")  \n",
    "        p = p+1\n",
    "        print(\"NEXT page\" , p)\n",
    "        driverC.execute_script(\"window.scrollTo(0, 0);\")\n",
    "        button = driverC.find_element_by_class_name(\"svg-icon-chevron_right\")\n",
    "        button.click()\n",
    "        time.sleep(2)  \n",
    "        i= 0"
   ]
  }
 ],
 "metadata": {
  "kernelspec": {
   "display_name": "Python 3",
   "language": "python",
   "name": "python3"
  },
  "language_info": {
   "codemirror_mode": {
    "name": "ipython",
    "version": 3
   },
   "file_extension": ".py",
   "mimetype": "text/x-python",
   "name": "python",
   "nbconvert_exporter": "python",
   "pygments_lexer": "ipython3",
   "version": "3.8.3"
  }
 },
 "nbformat": 4,
 "nbformat_minor": 4
}
