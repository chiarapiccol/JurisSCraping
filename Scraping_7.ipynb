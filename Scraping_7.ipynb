{
 "cells": [
  {
   "cell_type": "markdown",
   "metadata": {},
   "source": [
    "SCRAPING - ss 21 \n",
    "--------------- \n",
    "> Chiara Piccolroaz\n",
    "\n",
    "> University of Konstanz\n",
    "\n",
    "> Department of Computer and Information Science; Department of political and administration science\n"
   ]
  },
  {
   "cell_type": "markdown",
   "metadata": {},
   "source": [
    "IMPORTING PACKAGES\n",
    "--------------------------\n",
    "\n",
    "WEbseiten for Scraping Juris : https://www.juris.de/jportal/portal/ and https://rzblx10.uni-regensburg.de/dbinfo/detail.php?bib_id=ubko&colors=&ocolors=&lett=f&tid=0&titel_id=865\n",
    "\n",
    "WebSeite for Installing Selenium: : https://www.jcchouinard.com/learn-selenium-python-seo-automation/"
   ]
  },
  {
   "cell_type": "code",
   "execution_count": 1,
   "metadata": {},
   "outputs": [],
   "source": [
    "import time\n",
    "from selenium import webdriver\n",
    "from selenium.webdriver.common.keys import Keys\n",
    "import selenium.webdriver.support.ui as ui\n",
    "import requests, PyPDF2\n",
    "from io import BytesIO"
   ]
  },
  {
   "cell_type": "markdown",
   "metadata": {},
   "source": [
    "Go to Juris-website. Make sure to:\n",
    "1. be locked in the Uni-WLAN or connected with the Uni-VPN\n",
    "2. the packages have been download"
   ]
  },
  {
   "cell_type": "code",
   "execution_count": 3,
   "metadata": {},
   "outputs": [],
   "source": [
    "driverC=webdriver.Chrome(executable_path=r\"C:\\chromedriver_win32\\chromedriver.exe\") \n",
    "driverC.get('https://www.juris.de/jportal/?action=JLoginUser&username=HEBISUKN.autologin')\n",
    "driverC.get('https://www.juris.de/r3/search')\n",
    "driverC.maximize_window()"
   ]
  },
  {
   "cell_type": "markdown",
   "metadata": {},
   "source": [
    "Select the relevant filers and buttons. Make sure to:\n",
    "1. run the sleep functions, otherwise the other functions will override. \n",
    "2. the chrome window is maximized\n",
    "3. the previous function has run "
   ]
  },
  {
   "cell_type": "code",
   "execution_count": 4,
   "metadata": {},
   "outputs": [],
   "source": [
    "button = driverC.find_element_by_id(\"categories_hits_Rechtsprechung\")\n",
    "button.click()\n",
    "time.sleep(2) \n",
    "button = driverC.find_element_by_id(\"filter_Sachgebiete\")\n",
    "button.click()\n",
    "time.sleep(2) \n",
    "button = driverC.find_element_by_id(\"filter_Asylis___MILo\")\n",
    "button.click()\n",
    "time.sleep(2) \n",
    "button = driverC.find_element_by_id(\"filter_apply\")\n",
    "button.click()\n",
    "time.sleep(2) \n",
    "button = driverC.find_element_by_id(\"linkWorkId80896\")\n",
    "button.click()\n",
    "time.sleep(2) "
   ]
  },
  {
   "cell_type": "markdown",
   "metadata": {},
   "source": [
    "1. Collect the links:\n",
    "\n",
    "general Procedure: Collect the link of the pdfs for each of the 19151 elements. In order to do that use the following function, which enters each of the 19151 element files, get all PDFs and save them in a list. "
   ]
  },
  {
   "cell_type": "code",
   "execution_count": 15,
   "metadata": {},
   "outputs": [
    {
     "name": "stdout",
     "output_type": "stream",
     "text": [
      "resultlistentry_LI0\n",
      "no PDF\n",
      "resultlistentry_LI1\n",
      "no PDF\n",
      "resultlistentry_LI2\n",
      "no PDF\n",
      "resultlistentry_LI3\n",
      "got the PDFs, go one back\n",
      "resultlistentry_LI4\n",
      "got the PDFs, go one back\n",
      "resultlistentry_LI5\n",
      "got the PDFs, go one back\n",
      "resultlistentry_LI6\n",
      "got the PDFs, go one back\n",
      "resultlistentry_LI7\n",
      "no PDF\n",
      "resultlistentry_LI8\n",
      "got the PDFs, go one back\n",
      "resultlistentry_LI9\n",
      "got the PDFs, go one back\n",
      "resultlistentry_LI10\n",
      "no PDF\n",
      "resultlistentry_LI11\n",
      "no PDF\n",
      "resultlistentry_LI12\n",
      "got the PDFs, go one back\n",
      "resultlistentry_LI13\n",
      "no PDF\n",
      "resultlistentry_LI14\n",
      "got the PDFs, go one back\n",
      "resultlistentry_LI15\n",
      "got the PDFs, go one back\n",
      "resultlistentry_LI16\n",
      "got the PDFs, go one back\n",
      "resultlistentry_LI17\n",
      "no PDF\n",
      "resultlistentry_LI18\n",
      "got the PDFs, go one back\n",
      "resultlistentry_LI19\n",
      "no PDF\n",
      "resultlistentry_LI20\n",
      "got the PDFs, go one back\n",
      "resultlistentry_LI21\n",
      "got the PDFs, go one back\n",
      "resultlistentry_LI22\n",
      "got the PDFs, go one back\n",
      "resultlistentry_LI23\n",
      "got the PDFs, go one back\n",
      "resultlistentry_LI24\n",
      "got the PDFs, go one back\n",
      "i is equal 25 - we got the 25th element of the page -, so change page\n",
      "NEXT page 2\n",
      "resultlistentry_LI0\n",
      "got the PDFs, go one back\n",
      "resultlistentry_LI1\n",
      "got the PDFs, go one back\n",
      "resultlistentry_LI2\n",
      "multiple PDFs\n",
      "resultlistentry_LI3\n",
      "got the PDFs, go one back\n",
      "resultlistentry_LI4\n"
     ]
    },
    {
     "ename": "ElementClickInterceptedException",
     "evalue": "Message: element click intercepted: Element <li id=\"resultlistentry_LI4\" class=\"result-list__entry\">...</li> is not clickable at point (845, 62). Other element would receive the click: <nav id=\"ID_STICKY_SITE_HEADER_HEADER_MAIN_NAVI\" class=\"sticky-site-header__header-main-navi\">...</nav>\n  (Session info: chrome=91.0.4472.124)\n",
     "output_type": "error",
     "traceback": [
      "\u001b[1;31m---------------------------------------------------------------------------\u001b[0m",
      "\u001b[1;31mElementClickInterceptedException\u001b[0m          Traceback (most recent call last)",
      "\u001b[1;32m<ipython-input-15-6e99d63cc993>\u001b[0m in \u001b[0;36m<module>\u001b[1;34m\u001b[0m\n\u001b[0;32m     21\u001b[0m \u001b[1;31m# 1. enter the element´s file\u001b[0m\u001b[1;33m\u001b[0m\u001b[1;33m\u001b[0m\u001b[1;33m\u001b[0m\u001b[0m\n\u001b[0;32m     22\u001b[0m     \u001b[0mUrteil\u001b[0m \u001b[1;33m=\u001b[0m \u001b[0mdriverC\u001b[0m\u001b[1;33m.\u001b[0m\u001b[0mfind_element_by_id\u001b[0m\u001b[1;33m(\u001b[0m\u001b[0mstr\u001b[0m\u001b[1;33m)\u001b[0m\u001b[1;33m\u001b[0m\u001b[1;33m\u001b[0m\u001b[0m\n\u001b[1;32m---> 23\u001b[1;33m     \u001b[0mUrteil\u001b[0m\u001b[1;33m.\u001b[0m\u001b[0mclick\u001b[0m\u001b[1;33m(\u001b[0m\u001b[1;33m)\u001b[0m\u001b[1;33m\u001b[0m\u001b[1;33m\u001b[0m\u001b[0m\n\u001b[0m\u001b[0;32m     24\u001b[0m     \u001b[0mtime\u001b[0m\u001b[1;33m.\u001b[0m\u001b[0msleep\u001b[0m\u001b[1;33m(\u001b[0m\u001b[1;36m2\u001b[0m\u001b[1;33m)\u001b[0m\u001b[1;33m\u001b[0m\u001b[1;33m\u001b[0m\u001b[0m\n\u001b[0;32m     25\u001b[0m \u001b[1;33m\u001b[0m\u001b[0m\n",
      "\u001b[1;32m~\\anaconda3\\lib\\site-packages\\selenium\\webdriver\\remote\\webelement.py\u001b[0m in \u001b[0;36mclick\u001b[1;34m(self)\u001b[0m\n\u001b[0;32m     78\u001b[0m     \u001b[1;32mdef\u001b[0m \u001b[0mclick\u001b[0m\u001b[1;33m(\u001b[0m\u001b[0mself\u001b[0m\u001b[1;33m)\u001b[0m\u001b[1;33m:\u001b[0m\u001b[1;33m\u001b[0m\u001b[1;33m\u001b[0m\u001b[0m\n\u001b[0;32m     79\u001b[0m         \u001b[1;34m\"\"\"Clicks the element.\"\"\"\u001b[0m\u001b[1;33m\u001b[0m\u001b[1;33m\u001b[0m\u001b[0m\n\u001b[1;32m---> 80\u001b[1;33m         \u001b[0mself\u001b[0m\u001b[1;33m.\u001b[0m\u001b[0m_execute\u001b[0m\u001b[1;33m(\u001b[0m\u001b[0mCommand\u001b[0m\u001b[1;33m.\u001b[0m\u001b[0mCLICK_ELEMENT\u001b[0m\u001b[1;33m)\u001b[0m\u001b[1;33m\u001b[0m\u001b[1;33m\u001b[0m\u001b[0m\n\u001b[0m\u001b[0;32m     81\u001b[0m \u001b[1;33m\u001b[0m\u001b[0m\n\u001b[0;32m     82\u001b[0m     \u001b[1;32mdef\u001b[0m \u001b[0msubmit\u001b[0m\u001b[1;33m(\u001b[0m\u001b[0mself\u001b[0m\u001b[1;33m)\u001b[0m\u001b[1;33m:\u001b[0m\u001b[1;33m\u001b[0m\u001b[1;33m\u001b[0m\u001b[0m\n",
      "\u001b[1;32m~\\anaconda3\\lib\\site-packages\\selenium\\webdriver\\remote\\webelement.py\u001b[0m in \u001b[0;36m_execute\u001b[1;34m(self, command, params)\u001b[0m\n\u001b[0;32m    631\u001b[0m             \u001b[0mparams\u001b[0m \u001b[1;33m=\u001b[0m \u001b[1;33m{\u001b[0m\u001b[1;33m}\u001b[0m\u001b[1;33m\u001b[0m\u001b[1;33m\u001b[0m\u001b[0m\n\u001b[0;32m    632\u001b[0m         \u001b[0mparams\u001b[0m\u001b[1;33m[\u001b[0m\u001b[1;34m'id'\u001b[0m\u001b[1;33m]\u001b[0m \u001b[1;33m=\u001b[0m \u001b[0mself\u001b[0m\u001b[1;33m.\u001b[0m\u001b[0m_id\u001b[0m\u001b[1;33m\u001b[0m\u001b[1;33m\u001b[0m\u001b[0m\n\u001b[1;32m--> 633\u001b[1;33m         \u001b[1;32mreturn\u001b[0m \u001b[0mself\u001b[0m\u001b[1;33m.\u001b[0m\u001b[0m_parent\u001b[0m\u001b[1;33m.\u001b[0m\u001b[0mexecute\u001b[0m\u001b[1;33m(\u001b[0m\u001b[0mcommand\u001b[0m\u001b[1;33m,\u001b[0m \u001b[0mparams\u001b[0m\u001b[1;33m)\u001b[0m\u001b[1;33m\u001b[0m\u001b[1;33m\u001b[0m\u001b[0m\n\u001b[0m\u001b[0;32m    634\u001b[0m \u001b[1;33m\u001b[0m\u001b[0m\n\u001b[0;32m    635\u001b[0m     \u001b[1;32mdef\u001b[0m \u001b[0mfind_element\u001b[0m\u001b[1;33m(\u001b[0m\u001b[0mself\u001b[0m\u001b[1;33m,\u001b[0m \u001b[0mby\u001b[0m\u001b[1;33m=\u001b[0m\u001b[0mBy\u001b[0m\u001b[1;33m.\u001b[0m\u001b[0mID\u001b[0m\u001b[1;33m,\u001b[0m \u001b[0mvalue\u001b[0m\u001b[1;33m=\u001b[0m\u001b[1;32mNone\u001b[0m\u001b[1;33m)\u001b[0m\u001b[1;33m:\u001b[0m\u001b[1;33m\u001b[0m\u001b[1;33m\u001b[0m\u001b[0m\n",
      "\u001b[1;32m~\\anaconda3\\lib\\site-packages\\selenium\\webdriver\\remote\\webdriver.py\u001b[0m in \u001b[0;36mexecute\u001b[1;34m(self, driver_command, params)\u001b[0m\n\u001b[0;32m    319\u001b[0m         \u001b[0mresponse\u001b[0m \u001b[1;33m=\u001b[0m \u001b[0mself\u001b[0m\u001b[1;33m.\u001b[0m\u001b[0mcommand_executor\u001b[0m\u001b[1;33m.\u001b[0m\u001b[0mexecute\u001b[0m\u001b[1;33m(\u001b[0m\u001b[0mdriver_command\u001b[0m\u001b[1;33m,\u001b[0m \u001b[0mparams\u001b[0m\u001b[1;33m)\u001b[0m\u001b[1;33m\u001b[0m\u001b[1;33m\u001b[0m\u001b[0m\n\u001b[0;32m    320\u001b[0m         \u001b[1;32mif\u001b[0m \u001b[0mresponse\u001b[0m\u001b[1;33m:\u001b[0m\u001b[1;33m\u001b[0m\u001b[1;33m\u001b[0m\u001b[0m\n\u001b[1;32m--> 321\u001b[1;33m             \u001b[0mself\u001b[0m\u001b[1;33m.\u001b[0m\u001b[0merror_handler\u001b[0m\u001b[1;33m.\u001b[0m\u001b[0mcheck_response\u001b[0m\u001b[1;33m(\u001b[0m\u001b[0mresponse\u001b[0m\u001b[1;33m)\u001b[0m\u001b[1;33m\u001b[0m\u001b[1;33m\u001b[0m\u001b[0m\n\u001b[0m\u001b[0;32m    322\u001b[0m             response['value'] = self._unwrap_value(\n\u001b[0;32m    323\u001b[0m                 response.get('value', None))\n",
      "\u001b[1;32m~\\anaconda3\\lib\\site-packages\\selenium\\webdriver\\remote\\errorhandler.py\u001b[0m in \u001b[0;36mcheck_response\u001b[1;34m(self, response)\u001b[0m\n\u001b[0;32m    240\u001b[0m                 \u001b[0malert_text\u001b[0m \u001b[1;33m=\u001b[0m \u001b[0mvalue\u001b[0m\u001b[1;33m[\u001b[0m\u001b[1;34m'alert'\u001b[0m\u001b[1;33m]\u001b[0m\u001b[1;33m.\u001b[0m\u001b[0mget\u001b[0m\u001b[1;33m(\u001b[0m\u001b[1;34m'text'\u001b[0m\u001b[1;33m)\u001b[0m\u001b[1;33m\u001b[0m\u001b[1;33m\u001b[0m\u001b[0m\n\u001b[0;32m    241\u001b[0m             \u001b[1;32mraise\u001b[0m \u001b[0mexception_class\u001b[0m\u001b[1;33m(\u001b[0m\u001b[0mmessage\u001b[0m\u001b[1;33m,\u001b[0m \u001b[0mscreen\u001b[0m\u001b[1;33m,\u001b[0m \u001b[0mstacktrace\u001b[0m\u001b[1;33m,\u001b[0m \u001b[0malert_text\u001b[0m\u001b[1;33m)\u001b[0m\u001b[1;33m\u001b[0m\u001b[1;33m\u001b[0m\u001b[0m\n\u001b[1;32m--> 242\u001b[1;33m         \u001b[1;32mraise\u001b[0m \u001b[0mexception_class\u001b[0m\u001b[1;33m(\u001b[0m\u001b[0mmessage\u001b[0m\u001b[1;33m,\u001b[0m \u001b[0mscreen\u001b[0m\u001b[1;33m,\u001b[0m \u001b[0mstacktrace\u001b[0m\u001b[1;33m)\u001b[0m\u001b[1;33m\u001b[0m\u001b[1;33m\u001b[0m\u001b[0m\n\u001b[0m\u001b[0;32m    243\u001b[0m \u001b[1;33m\u001b[0m\u001b[0m\n\u001b[0;32m    244\u001b[0m     \u001b[1;32mdef\u001b[0m \u001b[0m_value_or_default\u001b[0m\u001b[1;33m(\u001b[0m\u001b[0mself\u001b[0m\u001b[1;33m,\u001b[0m \u001b[0mobj\u001b[0m\u001b[1;33m,\u001b[0m \u001b[0mkey\u001b[0m\u001b[1;33m,\u001b[0m \u001b[0mdefault\u001b[0m\u001b[1;33m)\u001b[0m\u001b[1;33m:\u001b[0m\u001b[1;33m\u001b[0m\u001b[1;33m\u001b[0m\u001b[0m\n",
      "\u001b[1;31mElementClickInterceptedException\u001b[0m: Message: element click intercepted: Element <li id=\"resultlistentry_LI4\" class=\"result-list__entry\">...</li> is not clickable at point (845, 62). Other element would receive the click: <nav id=\"ID_STICKY_SITE_HEADER_HEADER_MAIN_NAVI\" class=\"sticky-site-header__header-main-navi\">...</nav>\n  (Session info: chrome=91.0.4472.124)\n"
     ]
    }
   ],
   "source": [
    "# 0. Initialisation\n",
    "\n",
    "# the list the PDF-files are gonna be saved in\n",
    "listPDFs = [] \n",
    "# i refers to the number of ducuments pro page and gives the function the id of the document we are looking for. Put i = j = 0\n",
    "i = 0 \n",
    "# j refers to the number of documents in total. Put i = j = 0\n",
    "j = 0\n",
    "# p refers to the number of the page \n",
    "p = 1\n",
    "\n",
    "# 0. repeat the function for the number of the documents: \n",
    "while j < 20491:\n",
    "    # get the name\n",
    "    # create the string, which indicates the element_id on the website, which we want to enter the element file with \n",
    "    str1 ='resultlistentry_LI' \n",
    "    str2 = \"{}\".format(i)\n",
    "    str = str1 + str2\n",
    "    print(str) \n",
    "    \n",
    "# 1. enter the element´s file\n",
    "    Urteil = driverC.find_element_by_id(str) \n",
    "    Urteil.click()\n",
    "    time.sleep(2) \n",
    "    \n",
    "# 2. get the PDF-link(s) from the respective element´s file\n",
    "    # get the links and put in the list linkList\n",
    "    links=driverC.find_elements_by_tag_name(\"a\")\n",
    "    linkList = [link.get_attribute('href') for link in links]\n",
    "    time.sleep(1)\n",
    "    # clean the list linkList, in order to have only strings\n",
    "    clean_linkList = [i for i in linkList if i is not None]\n",
    "    # count how many PDFs are, which we are interested in:and according to that:  \n",
    "    count = 0\n",
    "    sub = '/jportal/docs/anlage/as/bilder/'\n",
    "    for link in clean_linkList:\n",
    "        if sub in link:\n",
    "            count = count +1\n",
    "    # if these are more than just one PDF: select the links and add it to the list linkPDF as a list\n",
    "    if count > 1:\n",
    "        linkPDF = []\n",
    "        print('multiple PDFs')\n",
    "        for link in clean_linkList:\n",
    "            if sub in link:\n",
    "                linkPDF.append(link)         \n",
    "    # if there is only one PDF: select the link and add to the list linkPDF;       \n",
    "    if count == 1:\n",
    "        linkPDF = []\n",
    "        print(\"got the PDFs, go one back\")\n",
    "        for link in clean_linkList:\n",
    "            if sub in link:\n",
    "                linkPDF = link\n",
    "    # if there are no PDFs: do nothing  \n",
    "    if count < 1:\n",
    "        print('no PDF') \n",
    "        \n",
    "# 4. add the PDF(s) in the ListPDFs\n",
    "    listPDFs.append(linkPDF)\n",
    "    #print(listPDFs)\n",
    "    time.sleep(1)\n",
    "    \n",
    "# 5. go back to the main page and go on with the other elements\n",
    "    backtoList = driverC.find_element_by_class_name(\"tlrahmen\")\n",
    "    backtoList.click()\n",
    "    time.sleep(1) \n",
    "    \n",
    "# 6. increase i to check for the elements pro page; increase j to check for the 19151 elements\n",
    "    i = i+1\n",
    "    j = j+1 \n",
    "    \n",
    "# 6. if te last element change the page \n",
    "    if i == 25: \n",
    "        print(\"i is equal 25 - we got the 25th element of the page -, so change page\")  \n",
    "        p = p+1\n",
    "        print(\"NEXT page\" , p)\n",
    "        driverC.execute_script(\"window.scrollTo(0, 0);\")\n",
    "        button = driverC.find_element_by_class_name(\"svg-icon-chevron_right\")\n",
    "        button.click()\n",
    "        time.sleep(1)  \n",
    "        i= 0\n",
    "        "
   ]
  },
  {
   "cell_type": "code",
   "execution_count": 16,
   "metadata": {},
   "outputs": [],
   "source": [
    "with open('listPDFs.txt', 'w') as f:\n",
    "    for item in listPDFs:\n",
    "        f.write(\"%s\\r\\n\" % item)"
   ]
  },
  {
   "cell_type": "code",
   "execution_count": 1,
   "metadata": {},
   "outputs": [
    {
     "ename": "NameError",
     "evalue": "name 'listPDFs' is not defined",
     "output_type": "error",
     "traceback": [
      "\u001b[1;31m---------------------------------------------------------------------------\u001b[0m",
      "\u001b[1;31mNameError\u001b[0m                                 Traceback (most recent call last)",
      "\u001b[1;32m<ipython-input-1-5612fd1c3deb>\u001b[0m in \u001b[0;36m<module>\u001b[1;34m\u001b[0m\n\u001b[1;32m----> 1\u001b[1;33m \u001b[0mlistPDFs\u001b[0m\u001b[1;33m\u001b[0m\u001b[1;33m\u001b[0m\u001b[0m\n\u001b[0m",
      "\u001b[1;31mNameError\u001b[0m: name 'listPDFs' is not defined"
     ]
    }
   ],
   "source": [
    "listPDFs"
   ]
  },
  {
   "cell_type": "markdown",
   "metadata": {},
   "source": [
    "To get the PDF content "
   ]
  },
  {
   "cell_type": "code",
   "execution_count": 9,
   "metadata": {},
   "outputs": [],
   "source": [
    "TextList = []\n",
    "\n",
    "for link in listPDFs:\n",
    "    Pages = []\n",
    "    response = requests.get(link)\n",
    "    my_raw_data = response.content\n",
    "    \n",
    "    with BytesIO(my_raw_data) as data:\n",
    "        read_pdf = PyPDF2.PdfFileReader(data)\n",
    "        \n",
    "        for page in range(read_pdf.getNumPages()):\n",
    "            p =read_pdf.getPage(page).extractText()\n",
    "            p = p.replace(\"\\n\", \"\")\n",
    "            Pages.append(p)\n",
    "        JointPages = \"\".join(Pages)\n",
    "        TextList.append(JointPages)"
   ]
  },
  {
   "cell_type": "code",
   "execution_count": 10,
   "metadata": {},
   "outputs": [
    {
     "data": {
      "text/plain": [
       "'  PDF Test File  Congratulations, your computer is equipped with a PDF (Portable Document Format) reader!  You should be able to view any of the PDF documents and forms available on our site.  PDF forms are indicated by these icons: \\n  or  \\n.    Yukon Department of Education Box 2703 Whitehorse,Yukon Canada Y1A 2C6  Please visit our website at:  \\nhttp://www.education.gov.yk.ca/\\n   '"
      ]
     },
     "execution_count": 10,
     "metadata": {},
     "output_type": "execute_result"
    }
   ],
   "source": [
    "TextList"
   ]
  },
  {
   "cell_type": "code",
   "execution_count": 2,
   "metadata": {},
   "outputs": [
    {
     "ename": "NameError",
     "evalue": "name 'TextList' is not defined",
     "output_type": "error",
     "traceback": [
      "\u001b[1;31m---------------------------------------------------------------------------\u001b[0m",
      "\u001b[1;31mNameError\u001b[0m                                 Traceback (most recent call last)",
      "\u001b[1;32m<ipython-input-2-52160eb54a8d>\u001b[0m in \u001b[0;36m<module>\u001b[1;34m\u001b[0m\n\u001b[0;32m      1\u001b[0m \u001b[1;32mwith\u001b[0m \u001b[0mopen\u001b[0m\u001b[1;33m(\u001b[0m\u001b[1;34m'test.txt'\u001b[0m\u001b[1;33m,\u001b[0m \u001b[1;34m'w'\u001b[0m\u001b[1;33m)\u001b[0m \u001b[1;32mas\u001b[0m \u001b[0mf\u001b[0m\u001b[1;33m:\u001b[0m\u001b[1;33m\u001b[0m\u001b[1;33m\u001b[0m\u001b[0m\n\u001b[1;32m----> 2\u001b[1;33m     \u001b[1;32mfor\u001b[0m \u001b[0mitem\u001b[0m \u001b[1;32min\u001b[0m \u001b[0mTextList\u001b[0m\u001b[1;33m:\u001b[0m\u001b[1;33m\u001b[0m\u001b[1;33m\u001b[0m\u001b[0m\n\u001b[0m\u001b[0;32m      3\u001b[0m         \u001b[0mf\u001b[0m\u001b[1;33m.\u001b[0m\u001b[0mwrite\u001b[0m\u001b[1;33m(\u001b[0m\u001b[1;34m\"%s\\r\\n\"\u001b[0m \u001b[1;33m%\u001b[0m \u001b[0mitem\u001b[0m\u001b[1;33m)\u001b[0m\u001b[1;33m\u001b[0m\u001b[1;33m\u001b[0m\u001b[0m\n",
      "\u001b[1;31mNameError\u001b[0m: name 'TextList' is not defined"
     ]
    }
   ],
   "source": [
    "with open('test.txt', 'w') as f:\n",
    "    for item in TextList:\n",
    "        f.write(\"%s\\r\\n\" % item)"
   ]
  }
 ],
 "metadata": {
  "kernelspec": {
   "display_name": "Python 3",
   "language": "python",
   "name": "python3"
  },
  "language_info": {
   "codemirror_mode": {
    "name": "ipython",
    "version": 3
   },
   "file_extension": ".py",
   "mimetype": "text/x-python",
   "name": "python",
   "nbconvert_exporter": "python",
   "pygments_lexer": "ipython3",
   "version": "3.8.3"
  }
 },
 "nbformat": 4,
 "nbformat_minor": 4
}
